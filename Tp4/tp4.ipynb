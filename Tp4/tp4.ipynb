{
 "cells": [
  {
   "cell_type": "markdown",
   "id": "59dcb2fa",
   "metadata": {},
   "source": [
    "# PROCESAMIENTO DEL GRAPH"
   ]
  },
  {
   "cell_type": "code",
   "execution_count": 1,
   "id": "1581870f",
   "metadata": {},
   "outputs": [
    {
     "name": "stdout",
     "output_type": "stream",
     "text": [
      "Grafo Creado!\n"
     ]
    }
   ],
   "source": [
    "from graph import Graph\n",
    "\n",
    "from os import system\n",
    "from sys import setrecursionlimit\n",
    "setrecursionlimit(31415296) #es una banda pero como no hay valgrind puedo hacer lo que yo quiera \n",
    "\n",
    "page_graph = Graph()\n",
    "\n",
    "with open('web-Google.txt', 'r') as file:#cambiar al archivo original y modificar el largo de la barra\n",
    "    \n",
    "    for l in file:\n",
    "        if \"# FromNodeId\tToNodeId\" in l:\n",
    "            break\n",
    "    for l in file:\n",
    "        if not l:\n",
    "            break\n",
    "        edge = tuple(int(v.replace(\"\\n\", \"\").replace(\"\\t\", \"\")) for v in l.split(\"\\t\"))\n",
    "        for v in edge:\n",
    "            if not page_graph.vertex_exists(v):\n",
    "                page_graph.add_vertex(str(v))\n",
    "       \n",
    "    \n",
    "        page_graph.add_edge(str(edge[0]), str(edge[1]))\n",
    "    print(\"Grafo Creado!\")\n",
    "    \n"
   ]
  },
  {
   "cell_type": "markdown",
   "id": "59424483",
   "metadata": {},
   "source": [
    "# 1\n"
   ]
  },
  {
   "cell_type": "code",
   "execution_count": 2,
   "id": "0b93c45d",
   "metadata": {},
   "outputs": [
    {
     "name": "stdout",
     "output_type": "stream",
     "text": [
      "saa\n",
      "Tamaño de la componente conexa más grande:\n",
      "None\n",
      "Cantidad de componentes conexas:\n",
      "179851\n"
     ]
    }
   ],
   "source": [
    "from funciones import *\n",
    "print(f\"Tamaño de la componente conexa más grande:\\n{largest_connected(page_graph)}\")\n",
    "print(f\"Cantidad de componentes conexas:\\n{count_connected_components(page_graph)}\")"
   ]
  }
 ],
 "metadata": {
  "kernelspec": {
   "display_name": "Python 3",
   "language": "python",
   "name": "python3"
  },
  "language_info": {
   "codemirror_mode": {
    "name": "ipython",
    "version": 3
   },
   "file_extension": ".py",
   "mimetype": "text/x-python",
   "name": "python",
   "nbconvert_exporter": "python",
   "pygments_lexer": "ipython3",
   "version": "3.12.3"
  }
 },
 "nbformat": 4,
 "nbformat_minor": 5
}
